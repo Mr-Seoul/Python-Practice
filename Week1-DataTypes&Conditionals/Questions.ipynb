{
 "cells": [
  {
   "cell_type": "markdown",
   "metadata": {},
   "source": [
    "Chapter1"
   ]
  },
  {
   "cell_type": "code",
   "execution_count": 1,
   "metadata": {},
   "outputs": [],
   "source": [
    "import tests as test"
   ]
  },
  {
   "cell_type": "markdown",
   "metadata": {
    "vscode": {
     "languageId": "plaintext"
    }
   },
   "source": [
    "Question 1"
   ]
  },
  {
   "cell_type": "markdown",
   "metadata": {},
   "source": [
    "Code a function that returns the total price of a list of articles. Assume that the price list is a dictionary with the article name as key and the article price as value"
   ]
  },
  {
   "cell_type": "code",
   "execution_count": 2,
   "metadata": {},
   "outputs": [
    {
     "name": "stdout",
     "output_type": "stream",
     "text": [
      "With inputs ({'Apple': 5, 'Tomato': 9, 'Bread': 18},), 32 is expected. Got None instead.\n"
     ]
    }
   ],
   "source": [
    "def listsum(articles):\n",
    "    pass\n",
    "\n",
    "test.sumtest(listsum)"
   ]
  },
  {
   "cell_type": "markdown",
   "metadata": {},
   "source": [
    "Quesstion 2"
   ]
  },
  {
   "cell_type": "markdown",
   "metadata": {},
   "source": [
    "Code a function, that given two points in 3 dimentional space, given as 3-tuples, returns the distance between the two points."
   ]
  },
  {
   "cell_type": "code",
   "execution_count": 3,
   "metadata": {},
   "outputs": [
    {
     "name": "stdout",
     "output_type": "stream",
     "text": [
      "With inputs ((1, 2, 3), (0, 0, 0)), 3.7416573867739413 is expected. Got None instead.\n"
     ]
    }
   ],
   "source": [
    "def distance(pos1,pos2):\n",
    "    pass\n",
    "\n",
    "test.distancetest(distance)"
   ]
  },
  {
   "cell_type": "markdown",
   "metadata": {},
   "source": [
    "Question 3"
   ]
  },
  {
   "cell_type": "markdown",
   "metadata": {},
   "source": [
    "Code a function that takes a string name, float price and float discount percentage (from 0-100%), and returns a string \"{name} : {price}\". Round the final price to 2 decimals"
   ]
  },
  {
   "cell_type": "code",
   "execution_count": 4,
   "metadata": {},
   "outputs": [
    {
     "name": "stdout",
     "output_type": "stream",
     "text": [
      "With inputs ('Tomato', 15, 80), Tomato : 3.0 is expected. Got None instead.\n"
     ]
    }
   ],
   "source": [
    "def pricestring(name,originalPrice,discount):\n",
    "    pass\n",
    "\n",
    "test.pricetest(pricestring)"
   ]
  },
  {
   "cell_type": "markdown",
   "metadata": {},
   "source": [
    "Question 4"
   ]
  },
  {
   "cell_type": "markdown",
   "metadata": {},
   "source": [
    "Code a function that takes a list of measurements (values between 0 and 100 mg/m^3), and returns a list of bolean values stating if the value is greater than 10 mg/m^3"
   ]
  },
  {
   "cell_type": "code",
   "execution_count": 5,
   "metadata": {},
   "outputs": [
    {
     "name": "stdout",
     "output_type": "stream",
     "text": [
      "With inputs ([25.17, 40.79, 57.82, 75.87, 96.51, 28.88, 60.91],), [True, True, True, True, True, True, True] is expected. Got None instead.\n"
     ]
    }
   ],
   "source": [
    "def measurementProcessing(measurementList):\n",
    "    pass\n",
    "\n",
    "test.listtest(measurementProcessing)"
   ]
  },
  {
   "cell_type": "markdown",
   "metadata": {},
   "source": [
    "Question 5"
   ]
  },
  {
   "cell_type": "markdown",
   "metadata": {},
   "source": [
    "Code a function that returns the nth fibinacci number. Assume that fib0 = 0 and fib1 = 1."
   ]
  },
  {
   "cell_type": "code",
   "execution_count": 6,
   "metadata": {},
   "outputs": [
    {
     "name": "stdout",
     "output_type": "stream",
     "text": [
      "With inputs (2,), 1 is expected. Got None instead.\n"
     ]
    }
   ],
   "source": [
    "def fibbinaci(n):\n",
    "    pass\n",
    "\n",
    "test.fibtest(fibbinaci)"
   ]
  },
  {
   "cell_type": "markdown",
   "metadata": {},
   "source": [
    "Question 6"
   ]
  },
  {
   "cell_type": "markdown",
   "metadata": {},
   "source": [
    "Code a function that returns True if either supermarket has a sale (bot not both). The inputs are two lists of booleans whether an item is on sale."
   ]
  },
  {
   "cell_type": "code",
   "execution_count": 7,
   "metadata": {},
   "outputs": [
    {
     "name": "stdout",
     "output_type": "stream",
     "text": [
      "With inputs ([False, False, False, False, False, False, False, False, False, False], [False, True, False, False, False, False, False, False, False, False]), True is expected. Got None instead.\n"
     ]
    }
   ],
   "source": [
    "def sales(salesListA,salesListB):\n",
    "    pass\n",
    "\n",
    "test.salestest(sales)"
   ]
  },
  {
   "cell_type": "markdown",
   "metadata": {},
   "source": [
    "Question 7"
   ]
  },
  {
   "cell_type": "markdown",
   "metadata": {},
   "source": [
    "Code a function that merges the two input dictionaries and returns it. If a key overlaps, take the average and use that as the value in the returned dictionary. Assume that the key values are floats."
   ]
  },
  {
   "cell_type": "code",
   "execution_count": 8,
   "metadata": {},
   "outputs": [
    {
     "name": "stdout",
     "output_type": "stream",
     "text": [
      "With inputs ({'a': 1.0, 'b': 11.25, 'c': 3.0, 'd': 4.2, 'e': 5.1}, {'b': 20.5, 'd': 4.2, 'e': 5.1}), {'a': 1.0, 'b': 15.875, 'c': 3.0, 'd': 4.2, 'e': 5.1} is expected. Got None instead.\n"
     ]
    }
   ],
   "source": [
    "def dictmerge(dictA,dictB):\n",
    "    pass\n",
    "\n",
    "test.dicttest(dictmerge)"
   ]
  },
  {
   "cell_type": "markdown",
   "metadata": {},
   "source": [
    "Question 8"
   ]
  },
  {
   "cell_type": "markdown",
   "metadata": {},
   "source": [
    "Imagine a situation of two factories, where factoryA produces 0.7 x output of factoryA + 0.3 x output of factoryB and factoryB produces 0.2 x output of factoryA + 0.8 x output of factoryB. This updates every month. Return a tuple of the output of the factories after n months, given the output of month 0."
   ]
  },
  {
   "cell_type": "code",
   "execution_count": 9,
   "metadata": {},
   "outputs": [
    {
     "name": "stdout",
     "output_type": "stream",
     "text": [
      "With inputs (10, 8, 3), (8.361999999999998, 6.811999999999999) is expected. Got None instead.\n"
     ]
    }
   ],
   "source": [
    "def factories(factA,factB,n):\n",
    "    pass\n",
    "\n",
    "test.factorytest(factories)"
   ]
  },
  {
   "cell_type": "markdown",
   "metadata": {},
   "source": [
    "Question 9"
   ]
  },
  {
   "cell_type": "markdown",
   "metadata": {},
   "source": [
    "Given a list of prices, code a function that returns the price of the cheapest item. If the list is empty, return 0."
   ]
  },
  {
   "cell_type": "code",
   "execution_count": 10,
   "metadata": {},
   "outputs": [
    {
     "name": "stdout",
     "output_type": "stream",
     "text": [
      "With inputs ([2.1, 4.2, 6.3, 8.4, 10.5, 12.6],), 2.1 is expected. Got None instead.\n"
     ]
    }
   ],
   "source": [
    "def cheaplist(pricelist):\n",
    "    pass\n",
    "\n",
    "test.cheaptest(cheaplist)"
   ]
  },
  {
   "cell_type": "markdown",
   "metadata": {},
   "source": [
    "Question 10"
   ]
  },
  {
   "cell_type": "markdown",
   "metadata": {},
   "source": [
    "Given two sets of points (two two-tuples with each position being in 2d), representing lines going through those points, determine if lineA or lineB is steeper, or equal. Return either \"A\",\"B\",\"Same\" or \"Undefined\". Assume that the line is in the form y = ax."
   ]
  },
  {
   "cell_type": "code",
   "execution_count": 11,
   "metadata": {},
   "outputs": [
    {
     "name": "stdout",
     "output_type": "stream",
     "text": [
      "With inputs (((1.0, 2.0), (3.0, 6.0)), ((0.0, 0.0), (2.0, 4.0))), Same is expected. Got None instead.\n"
     ]
    }
   ],
   "source": [
    "def lines(pointsA, pointsB):\n",
    "    pass\n",
    "\n",
    "test.linestest(lines)"
   ]
  }
 ],
 "metadata": {
  "kernelspec": {
   "display_name": "Python 3",
   "language": "python",
   "name": "python3"
  },
  "language_info": {
   "codemirror_mode": {
    "name": "ipython",
    "version": 3
   },
   "file_extension": ".py",
   "mimetype": "text/x-python",
   "name": "python",
   "nbconvert_exporter": "python",
   "pygments_lexer": "ipython3",
   "version": "3.11.4"
  }
 },
 "nbformat": 4,
 "nbformat_minor": 2
}
