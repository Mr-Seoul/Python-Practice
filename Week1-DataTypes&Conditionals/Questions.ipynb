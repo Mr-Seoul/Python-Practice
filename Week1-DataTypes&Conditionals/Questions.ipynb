{
 "cells": [
  {
   "cell_type": "markdown",
   "metadata": {},
   "source": [
    "Chapter1"
   ]
  },
  {
   "cell_type": "code",
   "execution_count": 1,
   "metadata": {},
   "outputs": [],
   "source": [
    "import tests as test"
   ]
  },
  {
   "cell_type": "markdown",
   "metadata": {
    "vscode": {
     "languageId": "plaintext"
    }
   },
   "source": [
    "Question 1"
   ]
  },
  {
   "cell_type": "markdown",
   "metadata": {},
   "source": [
    "Code a function that calculates the total price of a list of articles. Assume that the price list is a dictionary with the article name as key and the article price as value"
   ]
  },
  {
   "cell_type": "code",
   "execution_count": 2,
   "metadata": {},
   "outputs": [
    {
     "name": "stdout",
     "output_type": "stream",
     "text": [
      "With inputs ({'Apple': 5, 'Tomato': 9, 'Bread': 18},), 32 is expected. Got None instead.\n"
     ]
    }
   ],
   "source": [
    "def listsum(articles):\n",
    "    pass\n",
    "\n",
    "test.sumtest(listsum)"
   ]
  },
  {
   "cell_type": "markdown",
   "metadata": {},
   "source": [
    "Quesstion 2"
   ]
  },
  {
   "cell_type": "markdown",
   "metadata": {},
   "source": [
    "Code a function, that given two points in 3 dimentional space, given as 3-tuples, computes the distance between the two points."
   ]
  },
  {
   "cell_type": "code",
   "execution_count": 3,
   "metadata": {},
   "outputs": [
    {
     "name": "stdout",
     "output_type": "stream",
     "text": [
      "With inputs ((1, 2, 3), (0, 0, 0)), 3.7416573867739413 is expected. Got None instead.\n"
     ]
    }
   ],
   "source": [
    "def distance(pos1,pos2):\n",
    "    pass\n",
    "\n",
    "test.distancetest(distance)"
   ]
  },
  {
   "cell_type": "markdown",
   "metadata": {},
   "source": [
    "Question 3"
   ]
  },
  {
   "cell_type": "markdown",
   "metadata": {},
   "source": [
    "Code a function that takes a string name, float price and float discount percentage (from 0-100%), and prints \"{name} : {price}\". Round the final price to 2 decimals"
   ]
  },
  {
   "cell_type": "code",
   "execution_count": null,
   "metadata": {},
   "outputs": [],
   "source": [
    "def pricestring(name,originalPrice,discount):\n",
    "    pass\n",
    "\n",
    "test.pricetest(pricestring)"
   ]
  }
 ],
 "metadata": {
  "kernelspec": {
   "display_name": "Python 3",
   "language": "python",
   "name": "python3"
  },
  "language_info": {
   "codemirror_mode": {
    "name": "ipython",
    "version": 3
   },
   "file_extension": ".py",
   "mimetype": "text/x-python",
   "name": "python",
   "nbconvert_exporter": "python",
   "pygments_lexer": "ipython3",
   "version": "3.11.4"
  }
 },
 "nbformat": 4,
 "nbformat_minor": 2
}
